{
 "cells": [
  {
   "cell_type": "markdown",
   "id": "282935f8",
   "metadata": {},
   "source": [
    "## Requirements/Libraries"
   ]
  },
  {
   "cell_type": "code",
   "execution_count": 2,
   "id": "70b1f154",
   "metadata": {},
   "outputs": [
    {
     "name": "stderr",
     "output_type": "stream",
     "text": [
      "* Owlready2 * Warning: optimized Cython parser module 'owlready2_optimized' is not available, defaulting to slower Python implementation\n"
     ]
    }
   ],
   "source": [
    "from owlready2 import *"
   ]
  },
  {
   "cell_type": "markdown",
   "id": "b6d96264",
   "metadata": {},
   "source": [
    "## Load an ontology and print 5 classes"
   ]
  },
  {
   "cell_type": "code",
   "execution_count": 8,
   "id": "b7d44532",
   "metadata": {},
   "outputs": [
    {
     "name": "stdout",
     "output_type": "stream",
     "text": [
      "Loading ontology...\n",
      "Classes in Pizza ontology: 99\n",
      "Printing 5 classes.\n",
      " http://www.co-ode.org/ontologies/pizza/pizza.owl#Pizza\n",
      "\tPizza\n",
      "\t['Pizza']\n",
      " http://www.co-ode.org/ontologies/pizza/pizza.owl#PizzaBase\n",
      "\tPizzaBase\n",
      "\t['BaseDaPizza', 'PizzaBase']\n",
      " http://www.co-ode.org/ontologies/pizza/pizza.owl#Food\n",
      "\tFood\n",
      "\t['Food']\n",
      " http://www.co-ode.org/ontologies/pizza/pizza.owl#Spiciness\n",
      "\tSpiciness\n",
      "\t['Spiciness', 'Tempero']\n",
      " http://www.co-ode.org/ontologies/pizza/pizza.owl#PizzaTopping\n",
      "\tPizzaTopping\n",
      "\t['CoberturaDaPizza', 'PizzaTopping']\n"
     ]
    }
   ],
   "source": [
    "#Load ontology\n",
    "num_entities_to_print=5\n",
    "urionto=\"http://protege.stanford.edu/ontologies/pizza/pizza.owl\"\n",
    "\n",
    "#Method from owlready\n",
    "print(\"Loading ontology...\")\n",
    "onto = get_ontology(urionto).load()\n",
    "\n",
    "#Print 5 entities\n",
    "\n",
    "print(\"Classes in Pizza ontology: \" + str(len(list(onto.classes()))))\n",
    "print(\"Printing \" + str(num_entities_to_print) + \" classes.\")\n",
    "i=0\n",
    "for cls in onto.classes():\n",
    "    i+=1\n",
    "    print(\" \"+cls.iri)\n",
    "    print(\"\\t\"+cls.name)\n",
    "    print(\"\\t\"+str(cls.label))\n",
    "    if i==num_entities_to_print:\n",
    "        break"
   ]
  },
  {
   "cell_type": "markdown",
   "id": "a22bbf01",
   "metadata": {},
   "source": [
    "### Print Object and Data Properties"
   ]
  },
  {
   "cell_type": "code",
   "execution_count": 11,
   "id": "0a90b145",
   "metadata": {},
   "outputs": [
    {
     "name": "stdout",
     "output_type": "stream",
     "text": [
      "Object properties in Pizza ontology: 8\n",
      "Printing 5 object properties.\n",
      " http://www.co-ode.org/ontologies/pizza/pizza.owl#hasBase\n",
      "\thasBase\n",
      "\t[]\n",
      " http://www.co-ode.org/ontologies/pizza/pizza.owl#hasIngredient\n",
      "\thasIngredient\n",
      "\t[]\n",
      " http://www.co-ode.org/ontologies/pizza/pizza.owl#isBaseOf\n",
      "\tisBaseOf\n",
      "\t[]\n",
      " http://www.co-ode.org/ontologies/pizza/pizza.owl#hasCountryOfOrigin\n",
      "\thasCountryOfOrigin\n",
      "\t[]\n",
      " http://www.co-ode.org/ontologies/pizza/pizza.owl#isIngredientOf\n",
      "\tisIngredientOf\n",
      "\t[]\n"
     ]
    }
   ],
   "source": [
    "print(\"Object properties in Pizza ontology: \" + str(len(list(onto.object_properties()))))\n",
    "print(\"Printing \" + str(num_entities_to_print) + \" object properties.\")\n",
    "i=0\n",
    "for oprop in onto.object_properties():\n",
    "    i+=1\n",
    "    print(\" \"+oprop.iri)\n",
    "    print(\"\\t\"+oprop.name)\n",
    "    print(\"\\t\"+str(oprop.label))\n",
    "    if i==num_entities_to_print:\n",
    "        break"
   ]
  },
  {
   "cell_type": "code",
   "execution_count": 13,
   "id": "d725df05",
   "metadata": {},
   "outputs": [
    {
     "name": "stdout",
     "output_type": "stream",
     "text": [
      "Data properties in Pizza ontology: 0\n"
     ]
    }
   ],
   "source": [
    "print(\"Data properties in Pizza ontology: \" + str(len(list(onto.data_properties()))))\n",
    "#print(\"Printing \" + str(num_entities_to_print) + \" data properties.\")\n",
    "i=0\n",
    "for dprop in onto.data_properties():\n",
    "    i+=1\n",
    "    print(\" \"+dprop.iri)\n",
    "    print(\"\\t\"+dprop.name)\n",
    "    print(\"\\t\"+str(dprop.label))\n",
    "    if i==num_entities_to_print:\n",
    "        break"
   ]
  },
  {
   "cell_type": "markdown",
   "id": "ac824dff",
   "metadata": {},
   "source": [
    "### Printing individuals"
   ]
  },
  {
   "cell_type": "code",
   "execution_count": 14,
   "id": "ee4814ac",
   "metadata": {},
   "outputs": [
    {
     "name": "stdout",
     "output_type": "stream",
     "text": [
      "Individuals in Pizza ontology: 5\n",
      "Printing 5 individuals.\n",
      " http://www.co-ode.org/ontologies/pizza/pizza.owl#America\n",
      "\tAmerica\n",
      "\t[]\n",
      " http://www.co-ode.org/ontologies/pizza/pizza.owl#England\n",
      "\tEngland\n",
      "\t[]\n",
      " http://www.co-ode.org/ontologies/pizza/pizza.owl#France\n",
      "\tFrance\n",
      "\t[]\n",
      " http://www.co-ode.org/ontologies/pizza/pizza.owl#Germany\n",
      "\tGermany\n",
      "\t[]\n",
      " http://www.co-ode.org/ontologies/pizza/pizza.owl#Italy\n",
      "\tItaly\n",
      "\t[]\n"
     ]
    }
   ],
   "source": [
    "print(\"Individuals in Pizza ontology: \" + str(len(list(onto.individuals()))))\n",
    "print(\"Printing \" + str(num_entities_to_print) + \" individuals.\")\n",
    "i=0\n",
    "for indiv in onto.individuals():\n",
    "    i+=1\n",
    "    print(\" \"+indiv.iri)\n",
    "    print(\"\\t\"+indiv.name)\n",
    "    print(\"\\t\"+str(indiv.label))\n",
    "    if i==num_entities_to_print:\n",
    "        break"
   ]
  },
  {
   "cell_type": "code",
   "execution_count": null,
   "id": "c8ad06d4",
   "metadata": {},
   "outputs": [],
   "source": []
  }
 ],
 "metadata": {
  "kernelspec": {
   "display_name": "Python 3 (ipykernel)",
   "language": "python",
   "name": "python3"
  },
  "language_info": {
   "codemirror_mode": {
    "name": "ipython",
    "version": 3
   },
   "file_extension": ".py",
   "mimetype": "text/x-python",
   "name": "python",
   "nbconvert_exporter": "python",
   "pygments_lexer": "ipython3",
   "version": "3.8.10"
  }
 },
 "nbformat": 4,
 "nbformat_minor": 5
}
