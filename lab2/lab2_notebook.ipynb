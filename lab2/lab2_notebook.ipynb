{
 "cells": [
  {
   "cell_type": "markdown",
   "id": "282935f8",
   "metadata": {},
   "source": [
    "## Requirements/Libraries"
   ]
  },
  {
   "cell_type": "code",
   "execution_count": 1,
   "id": "70b1f154",
   "metadata": {},
   "outputs": [
    {
     "name": "stderr",
     "output_type": "stream",
     "text": [
      "* Owlready2 * Warning: optimized Cython parser module 'owlready2_optimized' is not available, defaulting to slower Python implementation\n"
     ]
    }
   ],
   "source": [
    "from owlready2 import *"
   ]
  },
  {
   "cell_type": "markdown",
   "id": "b6d96264",
   "metadata": {},
   "source": [
    "## Load an ontology and print 10 classes"
   ]
  },
  {
   "cell_type": "code",
   "execution_count": 4,
   "id": "b7d44532",
   "metadata": {},
   "outputs": [
    {
     "name": "stdout",
     "output_type": "stream",
     "text": [
      "Loading ontology...\n",
      "Classes in Pizza ontology: 99\n",
      "Printing 10 classes.\n",
      " http://www.co-ode.org/ontologies/pizza/pizza.owl#Pizza\n",
      " http://www.co-ode.org/ontologies/pizza/pizza.owl#PizzaBase\n",
      " http://www.co-ode.org/ontologies/pizza/pizza.owl#Food\n",
      " http://www.co-ode.org/ontologies/pizza/pizza.owl#Spiciness\n",
      " http://www.co-ode.org/ontologies/pizza/pizza.owl#PizzaTopping\n",
      " http://www.co-ode.org/ontologies/pizza/pizza.owl#American\n",
      " http://www.co-ode.org/ontologies/pizza/pizza.owl#NamedPizza\n",
      " http://www.co-ode.org/ontologies/pizza/pizza.owl#MozzarellaTopping\n",
      " http://www.co-ode.org/ontologies/pizza/pizza.owl#PeperoniSausageTopping\n",
      " http://www.co-ode.org/ontologies/pizza/pizza.owl#TomatoTopping\n"
     ]
    }
   ],
   "source": [
    "#Load ontology\n",
    "num_entities_to_print=10\n",
    "urionto=\"http://protege.stanford.edu/ontologies/pizza/pizza.owl\"\n",
    "\n",
    "#Method from owlready\n",
    "print(\"Loading ontology...\")\n",
    "onto = get_ontology(urionto).load()\n",
    "\n",
    "print(\"Classes in Pizza ontology: \" + str(len(list(onto.classes()))))\n",
    "print(\"Printing \" + str(num_entities_to_print) + \" classes.\")\n",
    "\n",
    "#Print 10 classes\n",
    "i=0\n",
    "for cls in onto.classes():\n",
    "    i=i+1\n",
    "    print(\" \"+cls.iri)\n",
    "    if i==num_entities_to_print:\n",
    "        break"
   ]
  },
  {
   "cell_type": "code",
   "execution_count": null,
   "id": "f45aebd9",
   "metadata": {},
   "outputs": [],
   "source": []
  }
 ],
 "metadata": {
  "kernelspec": {
   "display_name": "Python 3 (ipykernel)",
   "language": "python",
   "name": "python3"
  },
  "language_info": {
   "codemirror_mode": {
    "name": "ipython",
    "version": 3
   },
   "file_extension": ".py",
   "mimetype": "text/x-python",
   "name": "python",
   "nbconvert_exporter": "python",
   "pygments_lexer": "ipython3",
   "version": "3.8.10"
  }
 },
 "nbformat": 4,
 "nbformat_minor": 5
}
